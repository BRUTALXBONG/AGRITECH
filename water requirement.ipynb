{
 "cells": [
  {
   "cell_type": "code",
   "execution_count": 1,
   "metadata": {},
   "outputs": [],
   "source": [
    "#importing libraries\n",
    "import pandas as pd\n",
    "import numpy as np\n",
    "import matplotlib.pyplot as plt\n",
    "import seaborn as sns\n",
    "from sklearn.model_selection import train_test_split, GridSearchCV\n",
    "from sklearn.ensemble import RandomForestRegressor\n",
    "from sklearn.model_selection import RandomizedSearchCV\n",
    "from sklearn.metrics import mean_squared_error, mean_absolute_error, r2_score\n",
    "from sklearn.preprocessing import LabelEncoder"
   ]
  },
  {
   "cell_type": "code",
   "execution_count": 2,
   "metadata": {},
   "outputs": [
    {
     "data": {
      "text/html": [
       "<div>\n",
       "<style scoped>\n",
       "    .dataframe tbody tr th:only-of-type {\n",
       "        vertical-align: middle;\n",
       "    }\n",
       "\n",
       "    .dataframe tbody tr th {\n",
       "        vertical-align: top;\n",
       "    }\n",
       "\n",
       "    .dataframe thead th {\n",
       "        text-align: right;\n",
       "    }\n",
       "</style>\n",
       "<table border=\"1\" class=\"dataframe\">\n",
       "  <thead>\n",
       "    <tr style=\"text-align: right;\">\n",
       "      <th></th>\n",
       "      <th>temperature</th>\n",
       "      <th>humidity</th>\n",
       "      <th>wind_speed</th>\n",
       "      <th>evapotranspiration</th>\n",
       "      <th>rainfall_pattern</th>\n",
       "      <th>soil_type</th>\n",
       "      <th>soil_moisture_levels</th>\n",
       "      <th>water_retention_capacity</th>\n",
       "      <th>drainage_properties</th>\n",
       "      <th>crop_type</th>\n",
       "      <th>crop_water_requirement</th>\n",
       "      <th>growth_stage</th>\n",
       "      <th>water_requirement</th>\n",
       "    </tr>\n",
       "  </thead>\n",
       "  <tbody>\n",
       "    <tr>\n",
       "      <th>0</th>\n",
       "      <td>24.363503</td>\n",
       "      <td>49.891265</td>\n",
       "      <td>11.084976</td>\n",
       "      <td>6.743301</td>\n",
       "      <td>moderate</td>\n",
       "      <td>sandy</td>\n",
       "      <td>19.897240</td>\n",
       "      <td>35.673364</td>\n",
       "      <td>good</td>\n",
       "      <td>wheat</td>\n",
       "      <td>11.656577</td>\n",
       "      <td>vegetative</td>\n",
       "      <td>17.80</td>\n",
       "    </tr>\n",
       "    <tr>\n",
       "      <th>1</th>\n",
       "      <td>38.767858</td>\n",
       "      <td>46.632968</td>\n",
       "      <td>3.175424</td>\n",
       "      <td>5.133632</td>\n",
       "      <td>low</td>\n",
       "      <td>silty</td>\n",
       "      <td>19.440264</td>\n",
       "      <td>46.812501</td>\n",
       "      <td>poor</td>\n",
       "      <td>rice</td>\n",
       "      <td>5.141654</td>\n",
       "      <td>fruiting</td>\n",
       "      <td>10.58</td>\n",
       "    </tr>\n",
       "    <tr>\n",
       "      <th>2</th>\n",
       "      <td>33.299849</td>\n",
       "      <td>34.092313</td>\n",
       "      <td>5.526276</td>\n",
       "      <td>9.680487</td>\n",
       "      <td>low</td>\n",
       "      <td>clay</td>\n",
       "      <td>30.805983</td>\n",
       "      <td>43.495237</td>\n",
       "      <td>good</td>\n",
       "      <td>rice</td>\n",
       "      <td>5.427771</td>\n",
       "      <td>flowering</td>\n",
       "      <td>16.74</td>\n",
       "    </tr>\n",
       "    <tr>\n",
       "      <th>3</th>\n",
       "      <td>29.966462</td>\n",
       "      <td>68.581334</td>\n",
       "      <td>10.117569</td>\n",
       "      <td>2.970806</td>\n",
       "      <td>low</td>\n",
       "      <td>clay</td>\n",
       "      <td>5.105964</td>\n",
       "      <td>44.601767</td>\n",
       "      <td>good</td>\n",
       "      <td>rice</td>\n",
       "      <td>2.668952</td>\n",
       "      <td>seedling</td>\n",
       "      <td>4.76</td>\n",
       "    </tr>\n",
       "    <tr>\n",
       "      <th>4</th>\n",
       "      <td>18.900466</td>\n",
       "      <td>58.129933</td>\n",
       "      <td>7.490295</td>\n",
       "      <td>6.290708</td>\n",
       "      <td>low</td>\n",
       "      <td>sandy</td>\n",
       "      <td>38.141026</td>\n",
       "      <td>10.108229</td>\n",
       "      <td>good</td>\n",
       "      <td>soybean</td>\n",
       "      <td>3.652293</td>\n",
       "      <td>vegetative</td>\n",
       "      <td>9.54</td>\n",
       "    </tr>\n",
       "  </tbody>\n",
       "</table>\n",
       "</div>"
      ],
      "text/plain": [
       "   temperature   humidity  wind_speed  evapotranspiration rainfall_pattern  \\\n",
       "0    24.363503  49.891265   11.084976            6.743301         moderate   \n",
       "1    38.767858  46.632968    3.175424            5.133632              low   \n",
       "2    33.299849  34.092313    5.526276            9.680487              low   \n",
       "3    29.966462  68.581334   10.117569            2.970806              low   \n",
       "4    18.900466  58.129933    7.490295            6.290708              low   \n",
       "\n",
       "  soil_type  soil_moisture_levels  water_retention_capacity  \\\n",
       "0     sandy             19.897240                 35.673364   \n",
       "1     silty             19.440264                 46.812501   \n",
       "2      clay             30.805983                 43.495237   \n",
       "3      clay              5.105964                 44.601767   \n",
       "4     sandy             38.141026                 10.108229   \n",
       "\n",
       "  drainage_properties crop_type  crop_water_requirement growth_stage  \\\n",
       "0                good     wheat               11.656577   vegetative   \n",
       "1                poor      rice                5.141654     fruiting   \n",
       "2                good      rice                5.427771    flowering   \n",
       "3                good      rice                2.668952     seedling   \n",
       "4                good   soybean                3.652293   vegetative   \n",
       "\n",
       "   water_requirement  \n",
       "0              17.80  \n",
       "1              10.58  \n",
       "2              16.74  \n",
       "3               4.76  \n",
       "4               9.54  "
      ]
     },
     "execution_count": 2,
     "metadata": {},
     "output_type": "execute_result"
    }
   ],
   "source": [
    "df= pd.read_csv('C:\\\\Users\\\\User\\\\Downloads\\\\major project\\\\clean_water_requirement_data.csv')\n",
    "df.head()"
   ]
  },
  {
   "cell_type": "code",
   "execution_count": 3,
   "metadata": {},
   "outputs": [],
   "source": [
    "X = df.drop(columns=['water_requirement']) "
   ]
  },
  {
   "cell_type": "code",
   "execution_count": 4,
   "metadata": {},
   "outputs": [],
   "source": [
    "y=df.iloc[:,-1]"
   ]
  },
  {
   "cell_type": "code",
   "execution_count": 5,
   "metadata": {},
   "outputs": [
    {
     "data": {
      "text/plain": [
       "Index(['temperature', 'humidity', 'wind_speed', 'evapotranspiration',\n",
       "       'soil_moisture_levels', 'water_retention_capacity',\n",
       "       'crop_water_requirement', 'water_requirement'],\n",
       "      dtype='object')"
      ]
     },
     "execution_count": 5,
     "metadata": {},
     "output_type": "execute_result"
    }
   ],
   "source": [
    "numerical_columns = df.select_dtypes(include=['float64', 'int64']).columns\n",
    "numerical_columns"
   ]
  },
  {
   "cell_type": "code",
   "execution_count": 6,
   "metadata": {},
   "outputs": [
    {
     "name": "stdout",
     "output_type": "stream",
     "text": [
      "rainfall_pattern: 3 unique categories\n",
      "soil_type: 5 unique categories\n",
      "drainage_properties: 3 unique categories\n",
      "crop_type: 5 unique categories\n",
      "growth_stage: 6 unique categories\n"
     ]
    }
   ],
   "source": [
    "# Identify categorical columns\n",
    "categorical_columns = df.select_dtypes(include=['object', 'category']).columns\n",
    "\n",
    "# Count unique categories in each categorical column\n",
    "category_counts = {col: df[col].nunique() for col in categorical_columns}\n",
    "\n",
    "# Print the results\n",
    "for col, count in category_counts.items():\n",
    "    print(f\"{col}: {count} unique categories\")"
   ]
  },
  {
   "cell_type": "code",
   "execution_count": 7,
   "metadata": {},
   "outputs": [
    {
     "name": "stdout",
     "output_type": "stream",
     "text": [
      "['sandy' 'silty' 'clay' 'peaty' 'loamy']\n",
      "['moderate' 'low' 'high']\n",
      "['good' 'poor' 'moderate']\n",
      "['wheat' 'rice' 'soybean' 'cotton' 'maize']\n",
      "['vegetative' 'fruiting' 'flowering' 'seedling' 'maturity' 'reproductive']\n"
     ]
    }
   ],
   "source": [
    "print(df['soil_type'].unique()) \n",
    "print(df['rainfall_pattern'].unique())\n",
    "print(df['drainage_properties'].unique())\n",
    "print(df['crop_type'].unique())\n",
    "print(df['growth_stage'].unique())"
   ]
  },
  {
   "cell_type": "code",
   "execution_count": 8,
   "metadata": {},
   "outputs": [],
   "source": [
    "X_train, X_test, y_train, y_test = train_test_split(X, y, test_size=0.2, random_state=42)"
   ]
  },
  {
   "cell_type": "code",
   "execution_count": 9,
   "metadata": {},
   "outputs": [
    {
     "data": {
      "text/plain": [
       "(16000, 12)"
      ]
     },
     "execution_count": 9,
     "metadata": {},
     "output_type": "execute_result"
    }
   ],
   "source": [
    "X_train.shape"
   ]
  },
  {
   "cell_type": "code",
   "execution_count": 10,
   "metadata": {},
   "outputs": [],
   "source": [
    "label_encoders = {}\n",
    "for col in categorical_columns:\n",
    "    le = LabelEncoder()\n",
    "    df[col] = le.fit_transform(df[col])  # Convert categorical to numerical\n",
    "    label_encoders[col] = le  # Store encoders for inverse transformation"
   ]
  },
  {
   "cell_type": "code",
   "execution_count": 11,
   "metadata": {},
   "outputs": [
    {
     "name": "stderr",
     "output_type": "stream",
     "text": [
      "C:\\Users\\User\\AppData\\Local\\Temp\\ipykernel_7676\\111883450.py:32: FutureWarning: \n",
      "\n",
      "Passing `palette` without assigning `hue` is deprecated and will be removed in v0.14.0. Assign the `y` variable to `hue` and set `legend=False` for the same effect.\n",
      "\n",
      "  sns.barplot(x=feature_importances.values, y=feature_importances.index, palette=\"viridis\")\n"
     ]
    },
    {
     "data": {
      "image/png": "[encoded data removed]",
      "text/plain": [
       "<Figure size 1000x600 with 1 Axes>"
      ]
     },
     "metadata": {},
     "output_type": "display_data"
    },
    {
     "name": "stdout",
     "output_type": "stream",
     "text": [
      "Mean Absolute Error 0.8272287948093372\n",
      "Mean R Squared 0.9444194482428152\n",
      "Feature Importance:\n",
      "crop_water_requirement      0.730679\n",
      "evapotranspiration          0.104857\n",
      "growth_stage                0.063204\n",
      "soil_type                   0.031183\n",
      "temperature                 0.014904\n",
      "rainfall_pattern            0.014499\n",
      "wind_speed                  0.008801\n",
      "soil_moisture_levels        0.007768\n",
      "water_retention_capacity    0.007322\n",
      "humidity                    0.007169\n",
      "drainage_properties         0.006933\n",
      "crop_type                   0.002680\n",
      "dtype: float64\n"
     ]
    }
   ],
   "source": [
    "# Encode categorical features\n",
    "categorical_columns = ['rainfall_pattern', 'soil_type', 'drainage_properties', 'crop_type', 'growth_stage']\n",
    "df_encoded = df.copy()\n",
    "label_encoders = {}\n",
    "\n",
    "for col in categorical_columns:\n",
    "    le = LabelEncoder()\n",
    "    df_encoded[col] = le.fit_transform(df[col])\n",
    "    label_encoders[col] = le\n",
    "\n",
    "# Define features and target variable\n",
    "X = df_encoded.drop(columns=['water_requirement'])  # Features\n",
    "y = df_encoded['water_requirement']  # Target\n",
    "\n",
    "# Split data into training and test sets\n",
    "X_train, X_test, y_train, y_test = train_test_split(X, y, test_size=0.2, random_state=42)\n",
    "\n",
    "# Train RandomForestRegressor\n",
    "model = RandomForestRegressor(n_estimators=100, random_state=42)\n",
    "model.fit(X_train, y_train)\n",
    "\n",
    "# Predict and evaluate\n",
    "y_pred = model.predict(X_test)\n",
    "mae = mean_absolute_error(y_test, y_pred)\n",
    "r2 = r2_score(y_test, y_pred)\n",
    "\n",
    "# Feature Importance Analysis\n",
    "feature_importances = pd.Series(model.feature_importances_, index=X.columns).sort_values(ascending=False)\n",
    "\n",
    "# Plot feature importances\n",
    "plt.figure(figsize=(10, 6))\n",
    "sns.barplot(x=feature_importances.values, y=feature_importances.index, palette=\"viridis\")\n",
    "plt.xlabel(\"Feature Importance Score\")\n",
    "plt.ylabel(\"Features\")\n",
    "plt.title(\"Feature Importance for Water Requirement Prediction\")\n",
    "plt.show()\n",
    "\n",
    "# Return evaluation metrics\n",
    "print(\"Mean Absolute Error\",mae)\n",
    "print(\"Mean R Squared\",r2)\n",
    "print(\"Feature Importance:\")\n",
    "print(feature_importances)"
   ]
  },
  {
   "cell_type": "code",
   "execution_count": 12,
   "metadata": {},
   "outputs": [
    {
     "name": "stdout",
     "output_type": "stream",
     "text": [
      "temperature                 0.082502\n",
      "humidity                   -0.016958\n",
      "wind_speed                  0.062858\n",
      "evapotranspiration          0.306207\n",
      "rainfall_pattern            0.089451\n",
      "soil_type                   0.038873\n",
      "soil_moisture_levels        0.063450\n",
      "water_retention_capacity    0.063427\n",
      "drainage_properties         0.038285\n",
      "crop_type                   0.046013\n",
      "crop_water_requirement      0.840243\n",
      "growth_stage                0.095651\n",
      "water_requirement           1.000000\n",
      "Name: water_requirement, dtype: float64\n"
     ]
    }
   ],
   "source": [
    "correlation_matrix = df.corr()\n",
    "print(correlation_matrix['water_requirement'])"
   ]
  },
  {
   "cell_type": "code",
   "execution_count": 16,
   "metadata": {},
   "outputs": [
    {
     "name": "stdout",
     "output_type": "stream",
     "text": [
      "Please enter values for the following features:\n"
     ]
    },
    {
     "name": "stdin",
     "output_type": "stream",
     "text": [
      "Enter value for crop_water_requirement:  11\n",
      "Enter value for evapotranspiration:  5\n"
     ]
    },
    {
     "name": "stdout",
     "output_type": "stream",
     "text": [
      "\n",
      "Available categories for growth_stage:\n",
      "5: vegetative\n",
      "1: fruiting\n",
      "0: flowering\n",
      "4: seedling\n",
      "2: maturity\n",
      "3: reproductive\n"
     ]
    },
    {
     "name": "stdin",
     "output_type": "stream",
     "text": [
      "Enter the number corresponding to growth_stage:  0\n"
     ]
    },
    {
     "name": "stdout",
     "output_type": "stream",
     "text": [
      "\n",
      "Available categories for soil_type:\n",
      "3: sandy\n",
      "4: silty\n",
      "0: clay\n",
      "2: peaty\n",
      "1: loamy\n"
     ]
    },
    {
     "name": "stdin",
     "output_type": "stream",
     "text": [
      "Enter the number corresponding to soil_type:  2\n",
      "Enter value for temperature:  36\n"
     ]
    },
    {
     "name": "stdout",
     "output_type": "stream",
     "text": [
      "\n",
      "Do you want to add more features? (yes/no)\n"
     ]
    },
    {
     "name": "stdin",
     "output_type": "stream",
     "text": [
      " no\n",
      "\n",
      "Enter the area of the land in square meters (m²):  600\n"
     ]
    },
    {
     "name": "stdout",
     "output_type": "stream",
     "text": [
      "\n",
      "✅ Predicted Water Requirement: 15.86 mm/day\n",
      "✅ Total Water Needed: 9513.09 liters/day\n"
     ]
    },
    {
     "name": "stderr",
     "output_type": "stream",
     "text": [
      "C:\\Users\\User\\AppData\\Local\\Programs\\Python\\Python311\\Lib\\site-packages\\sklearn\\base.py:493: UserWarning: X does not have valid feature names, but RandomForestRegressor was fitted with feature names\n",
      "  warnings.warn(\n"
     ]
    }
   ],
   "source": [
    "# Define categorical mappings\n",
    "soil_type_mapping = {'sandy': 3, 'silty': 4, 'clay': 0, 'peaty': 2, 'loamy': 1}\n",
    "rainfall_pattern_mapping = {'moderate': 2, 'low': 1, 'high': 0}\n",
    "drainage_properties_mapping = {'good': 0, 'poor': 2, 'moderate': 1}\n",
    "crop_type_mapping = {'wheat': 4, 'rice': 2, 'soybean': 3, 'cotton': 0, 'maize': 1}\n",
    "growth_stage_mapping = {'vegetative': 5, 'fruiting': 1, 'flowering': 0, 'seedling': 4, 'maturity': 2, 'reproductive': 3}\n",
    "\n",
    "# Reverse mappings for display\n",
    "reverse_mappings = {\n",
    "    'growth_stage': {v: k for k, v in growth_stage_mapping.items()},\n",
    "    'soil_type': {v: k for k, v in soil_type_mapping.items()},\n",
    "    'rainfall_pattern': {v: k for k, v in rainfall_pattern_mapping.items()},\n",
    "    'drainage_properties': {v: k for k, v in drainage_properties_mapping.items()},\n",
    "    'crop_type': {v: k for k, v in crop_type_mapping.items()},\n",
    "}\n",
    "\n",
    "# Select top 5 features based on importance\n",
    "top_5_features = feature_importances.index[:5].tolist()\n",
    "\n",
    "# Store user input\n",
    "user_input = {}\n",
    "\n",
    "print(\"Please enter values for the following features:\")\n",
    "\n",
    "# Get input for the top 5 features\n",
    "for feature in top_5_features:\n",
    "    if feature in reverse_mappings:  # If it's categorical, show category names\n",
    "        print(f\"\\nAvailable categories for {feature}:\")\n",
    "        for num, cat in reverse_mappings[feature].items():\n",
    "            print(f\"{num}: {cat}\")\n",
    "\n",
    "        user_value = input(f\"Enter the number corresponding to {feature}: \").strip()\n",
    "        if user_value.isdigit() and int(user_value) in reverse_mappings[feature]:\n",
    "            user_input[feature] = int(user_value)\n",
    "        else:\n",
    "            print(f\"Invalid choice! Defaulting to first category: {reverse_mappings[feature][0]}\")\n",
    "            user_input[feature] = 0  # Default to first category\n",
    "    else:  # Numerical input\n",
    "        user_input[feature] = float(input(f\"Enter value for {feature}: \"))\n",
    "\n",
    "# Ask user if they want to add extra features\n",
    "extra_features = []\n",
    "print(\"\\nDo you want to add more features? (yes/no)\")\n",
    "choice = input().strip().lower()\n",
    "\n",
    "if choice == \"yes\":\n",
    "    remaining_features = [f for f in feature_importances.index if f not in top_5_features]\n",
    "    print(\"\\nAvailable additional features:\")\n",
    "    for i, feature in enumerate(remaining_features, 1):\n",
    "        print(f\"{i}. {feature}\")\n",
    "    \n",
    "    selected_indices = input(\"Enter the numbers of features to add (comma-separated): \")\n",
    "    selected_indices = [int(i.strip()) - 1 for i in selected_indices.split(\",\")]\n",
    "\n",
    "    for i in selected_indices:\n",
    "        feature = remaining_features[i]\n",
    "        if feature in reverse_mappings:  # If categorical, show category names\n",
    "            print(f\"\\nAvailable categories for {feature}:\")\n",
    "            for num, cat in reverse_mappings[feature].items():\n",
    "                print(f\"{num}: {cat}\")\n",
    "\n",
    "            user_value = input(f\"Enter the number corresponding to {feature}: \").strip()\n",
    "            if user_value.isdigit() and int(user_value) in reverse_mappings[feature]:\n",
    "                user_input[feature] = int(user_value)\n",
    "            else:\n",
    "                print(f\"Invalid choice! Defaulting to first category: {reverse_mappings[feature][0]}\")\n",
    "                user_input[feature] = 0  # Default to first category\n",
    "        else:  # If numerical\n",
    "            user_input[feature] = float(input(f\"Enter value for {feature}: \"))\n",
    "\n",
    "# Ask user for the land area\n",
    "land_area = float(input(\"\\nEnter the area of the land in square meters (m²): \"))\n",
    "\n",
    "# Prepare input for model\n",
    "final_features = top_5_features + extra_features\n",
    "input_data = np.array([user_input[feature] for feature in final_features]).reshape(1, -1)\n",
    "\n",
    "# Ensure all required features are present (fill missing ones with mean)\n",
    "model_features = X.columns\n",
    "final_input = np.zeros((1, len(model_features)))\n",
    "for i, feature in enumerate(model_features):\n",
    "    if feature in user_input:\n",
    "        final_input[0, i] = user_input[feature]\n",
    "    else:\n",
    "        final_input[0, i] = X_train[feature].mean()  # Fill missing with mean\n",
    "\n",
    "# Make prediction\n",
    "prediction = model.predict(final_input)\n",
    "print(f\"\\n✅ Predicted Water Requirement: {prediction[0]:.2f} mm/day\")\n",
    "\n",
    "# Convert the water requirement to liters based on the land area\n",
    "total_water_needed = prediction[0] * land_area\n",
    "print(f\"✅ Total Water Needed: {total_water_needed:.2f} liters/day\")"
   ]
  },
  {
   "cell_type": "code",
   "execution_count": null,
   "metadata": {},
   "outputs": [],
   "source": []
  }
 ],
 "metadata": {
  "kernelspec": {
   "display_name": "Python 3 (ipykernel)",
   "language": "python",
   "name": "python3"
  },
  "language_info": {
   "codemirror_mode": {
    "name": "ipython",
    "version": 3
   },
   "file_extension": ".py",
   "mimetype": "text/x-python",
   "name": "python",
   "nbconvert_exporter": "python",
   "pygments_lexer": "ipython3",
   "version": "3.11.2"
  }
 },
 "nbformat": 4,
 "nbformat_minor": 4
}
